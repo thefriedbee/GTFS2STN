{
 "cells": [
  {
   "cell_type": "markdown",
   "id": "5280b024-b8cc-4aba-8a1b-b28d0e31946a",
   "metadata": {},
   "source": [
    "## Test and compare between networkx and rustworkx\n",
    "\n",
    "- Generate a dumb network\n",
    "- compare the shortest searching time between two algorithms\n"
   ]
  },
  {
   "cell_type": "code",
   "execution_count": 1,
   "id": "08a02f3e-005d-4e90-ab0f-94ed91db2ce0",
   "metadata": {},
   "outputs": [],
   "source": [
    "import rustworkx as rx\n",
    "import networkx as nx\n",
    "import pandas as pd"
   ]
  },
  {
   "cell_type": "code",
   "execution_count": 2,
   "id": "8c3599f9-8c7b-4e63-9469-667dc7942bad",
   "metadata": {},
   "outputs": [],
   "source": [
    "import matplotlib as mpl"
   ]
  },
  {
   "cell_type": "code",
   "execution_count": 3,
   "id": "eaae3019-4082-48ec-91b3-f92eaa5247de",
   "metadata": {},
   "outputs": [
    {
     "name": "stdout",
     "output_type": "stream",
     "text": [
      "0 1 2\n",
      "PathMapping{2: [0, 1, 2], 1: [0, 1]}\n",
      "PathLengthMapping{1: 1.4, 2: 3.9}\n"
     ]
    }
   ],
   "source": [
    "graph = rx.PyGraph()\n",
    "\n",
    "# Each time add node is called, it returns a new node index\n",
    "a = graph.add_node(\"A\")\n",
    "b = graph.add_node(\"B\")\n",
    "c = graph.add_node(\"C\")\n",
    "d = graph.add_node(\"Ds\")\n",
    "print(a, b, c)\n",
    "\n",
    "# add_edges_from takes tuples of node indices and weights,\n",
    "# and returns edge indices\n",
    "graph.add_edges_from(\n",
    "    [(a, b, (1.4, 1.4)),\n",
    "     (a, c, (5.0, 5.0)),\n",
    "     (b, c, (2.5, 1000))]\n",
    ")\n",
    "\n",
    "# Returns the path A -> B -> C\n",
    "ret1 = rx.dijkstra_shortest_paths(\n",
    "    graph, \n",
    "    source=a, # target=c,\n",
    "    weight_fn=lambda x: x[0]\n",
    ")\n",
    "\n",
    "print(ret1)\n",
    "\n",
    "ret2 = rx.dijkstra_shortest_path_lengths(\n",
    "    graph, \n",
    "    node=a, # target=c,\n",
    "    edge_cost_fn=lambda x: x[0]\n",
    ")\n",
    "\n",
    "print(ret2)"
   ]
  },
  {
   "cell_type": "code",
   "execution_count": 12,
   "id": "dfeb6122-0a35-4132-b6c0-681c52e057ee",
   "metadata": {},
   "outputs": [
    {
     "name": "stdout",
     "output_type": "stream",
     "text": [
      "[2, 1]\n"
     ]
    }
   ],
   "source": [
    "print(list(ret1.keys()))"
   ]
  },
  {
   "cell_type": "code",
   "execution_count": 6,
   "id": "bdff97a9-b4dd-4ec4-ac95-f3d39534fcfe",
   "metadata": {},
   "outputs": [
    {
     "data": {
      "text/plain": [
       "dict_keys(['a', 'b'])"
      ]
     },
     "execution_count": 6,
     "metadata": {},
     "output_type": "execute_result"
    }
   ],
   "source": [
    "{'a': [1,2,3], 'b':[45,6,3]}.keys()"
   ]
  },
  {
   "cell_type": "code",
   "execution_count": 4,
   "id": "656f768f-c441-4507-a1c8-54495ce01275",
   "metadata": {},
   "outputs": [],
   "source": [
    "import matplotlib.pyplot as plt"
   ]
  },
  {
   "cell_type": "code",
   "execution_count": 90,
   "id": "3e207570-802e-4dce-8f86-1d16c0bd2aa1",
   "metadata": {},
   "outputs": [
    {
     "data": {
      "text/html": [
       "<div>\n",
       "<style scoped>\n",
       "    .dataframe tbody tr th:only-of-type {\n",
       "        vertical-align: middle;\n",
       "    }\n",
       "\n",
       "    .dataframe tbody tr th {\n",
       "        vertical-align: top;\n",
       "    }\n",
       "\n",
       "    .dataframe thead th {\n",
       "        text-align: right;\n",
       "    }\n",
       "</style>\n",
       "<table border=\"1\" class=\"dataframe\">\n",
       "  <thead>\n",
       "    <tr style=\"text-align: right;\">\n",
       "      <th></th>\n",
       "      <th>stop_id</th>\n",
       "      <th>acc_time</th>\n",
       "    </tr>\n",
       "  </thead>\n",
       "  <tbody>\n",
       "    <tr>\n",
       "      <th>0</th>\n",
       "      <td>1</td>\n",
       "      <td>1.4</td>\n",
       "    </tr>\n",
       "    <tr>\n",
       "      <th>1</th>\n",
       "      <td>2</td>\n",
       "      <td>3.9</td>\n",
       "    </tr>\n",
       "  </tbody>\n",
       "</table>\n",
       "</div>"
      ],
      "text/plain": [
       "   stop_id  acc_time\n",
       "0        1       1.4\n",
       "1        2       3.9"
      ]
     },
     "execution_count": 90,
     "metadata": {},
     "output_type": "execute_result"
    }
   ],
   "source": [
    "df = pd.DataFrame.from_dict(ret2, orient='index')\n",
    "df = df.reset_index()\n",
    "df.columns = [\"stop_id\", \"acc_time\"]\n",
    "df"
   ]
  },
  {
   "cell_type": "code",
   "execution_count": 81,
   "id": "340e640c-ac32-4eb4-a8be-a3bda32e91cd",
   "metadata": {},
   "outputs": [
    {
     "data": {
      "text/plain": [
       "<rustworkx.NodeIndices at 0x10ff4d500>"
      ]
     },
     "execution_count": 81,
     "metadata": {},
     "output_type": "execute_result"
    }
   ],
   "source": [
    "ret[2]"
   ]
  },
  {
   "cell_type": "code",
   "execution_count": 82,
   "id": "e48740b4-184b-4c89-aff5-28b6fb0d2071",
   "metadata": {},
   "outputs": [
    {
     "name": "stdout",
     "output_type": "stream",
     "text": [
      "(2.5, 1000)\n"
     ]
    }
   ],
   "source": [
    "for e in graph.edges():\n",
    "    if e[1] > 100:\n",
    "        print(e)"
   ]
  },
  {
   "cell_type": "code",
   "execution_count": null,
   "id": "98535dac-7a09-4c8c-aeae-420651532bf3",
   "metadata": {},
   "outputs": [],
   "source": []
  },
  {
   "cell_type": "code",
   "execution_count": null,
   "id": "119ef62d-73c4-458f-8137-02cb5d811427",
   "metadata": {},
   "outputs": [],
   "source": []
  },
  {
   "cell_type": "code",
   "execution_count": null,
   "id": "432b2672-f829-4389-8cd9-58ac94695cb0",
   "metadata": {},
   "outputs": [],
   "source": []
  },
  {
   "cell_type": "code",
   "execution_count": null,
   "id": "7dc95999-1050-40f3-9b56-2d3c174a12ad",
   "metadata": {},
   "outputs": [],
   "source": []
  },
  {
   "cell_type": "code",
   "execution_count": null,
   "id": "3041057d-de3e-4fb7-bbbb-8a1674da5abb",
   "metadata": {},
   "outputs": [],
   "source": []
  },
  {
   "cell_type": "code",
   "execution_count": 20,
   "id": "31bf6734-c51e-4db8-80d3-0d5e78bee19e",
   "metadata": {},
   "outputs": [
    {
     "name": "stdout",
     "output_type": "stream",
     "text": [
      "PathMapping{2: [0, 2]}\n"
     ]
    }
   ],
   "source": [
    "graph = rx.PyGraph()\n",
    "\n",
    "# Each time add node is called, it returns a new node index\n",
    "a = graph.add_node(\"A\")\n",
    "b = graph.add_node(\"B\")\n",
    "c = graph.add_node(\"C\")\n",
    "\n",
    "# add_edges_from takes tuples of node indices and weights,\n",
    "# and returns edge indices\n",
    "graph.add_edges_from(\n",
    "    [(a, b, (1.4, 1.4)),\n",
    "     (a, c, (5.0, 5.0)),\n",
    "     (b, c, (2.5, 1000))]\n",
    ")\n",
    "\n",
    "# Returns the path A -> B -> C\n",
    "ret = rx.dijkstra_shortest_paths(graph, a, c, weight_fn=lambda x: x[1])\n",
    "print(ret)"
   ]
  },
  {
   "cell_type": "code",
   "execution_count": 21,
   "id": "15a86aef-7084-4850-8b1c-21d221e30694",
   "metadata": {},
   "outputs": [
    {
     "data": {
      "text/plain": [
       "[(1.4, 1.4), (5.0, 5.0), (2.5, 1000)]"
      ]
     },
     "execution_count": 21,
     "metadata": {},
     "output_type": "execute_result"
    }
   ],
   "source": [
    "graph.edges()"
   ]
  },
  {
   "cell_type": "code",
   "execution_count": 17,
   "id": "c38d6c30-0a08-492f-bd6d-61b03b923fc3",
   "metadata": {},
   "outputs": [
    {
     "ename": "IndexError",
     "evalue": "One of the endpoints of the edge does not exist in graph",
     "output_type": "error",
     "traceback": [
      "\u001b[0;31m---------------------------------------------------------------------------\u001b[0m",
      "\u001b[0;31mIndexError\u001b[0m                                Traceback (most recent call last)",
      "Cell \u001b[0;32mIn[17], line 1\u001b[0m\n\u001b[0;32m----> 1\u001b[0m \u001b[43mgraph\u001b[49m\u001b[38;5;241;43m.\u001b[39;49m\u001b[43madd_edge\u001b[49m\u001b[43m(\u001b[49m\u001b[43ma\u001b[49m\u001b[43m,\u001b[49m\u001b[43m \u001b[49m\u001b[38;5;241;43m55555\u001b[39;49m\u001b[43m,\u001b[49m\u001b[43m \u001b[49m\u001b[38;5;241;43m1.8\u001b[39;49m\u001b[43m)\u001b[49m\n",
      "\u001b[0;31mIndexError\u001b[0m: One of the endpoints of the edge does not exist in graph"
     ]
    }
   ],
   "source": [
    "graph.add_edge(a, 55555, 1.8)"
   ]
  },
  {
   "cell_type": "code",
   "execution_count": 18,
   "id": "b48a8983-ac05-4463-a462-09c6304ac0c2",
   "metadata": {},
   "outputs": [
    {
     "name": "stdout",
     "output_type": "stream",
     "text": [
      "NodeIndices[3, 4, 5]\n"
     ]
    }
   ],
   "source": [
    "new_nodes = [\n",
    "    (\"stop_10\", {}),\n",
    "    (\"stop_20\", {}),\n",
    "    (\"stop_30\", {})\n",
    "]\n",
    "\n",
    "new_node_ids = graph.add_nodes_from(new_nodes)\n",
    "print(new_node_ids)"
   ]
  },
  {
   "cell_type": "code",
   "execution_count": 19,
   "id": "4412eb88-0051-4f76-8bac-d6ca2bf71f9e",
   "metadata": {},
   "outputs": [
    {
     "data": {
      "text/plain": [
       "('stop_20', {})"
      ]
     },
     "execution_count": 19,
     "metadata": {},
     "output_type": "execute_result"
    }
   ],
   "source": [
    "graph[4]"
   ]
  },
  {
   "cell_type": "code",
   "execution_count": null,
   "id": "caf45123-6804-4fd2-a4a2-c957e55ee3c9",
   "metadata": {},
   "outputs": [],
   "source": []
  },
  {
   "cell_type": "code",
   "execution_count": 12,
   "id": "76428eba-caaa-407d-acd6-404e02a68404",
   "metadata": {},
   "outputs": [
    {
     "name": "stdout",
     "output_type": "stream",
     "text": [
      "NodeIndices[0, 1, 2]\n",
      "EdgeIndices[0, 1, 2]\n"
     ]
    }
   ],
   "source": [
    "node_indices = graph.node_indices()\n",
    "edge_indices = graph.edge_indices()\n",
    "print(node_indices)\n",
    "print(edge_indices)"
   ]
  },
  {
   "cell_type": "code",
   "execution_count": 13,
   "id": "28ff2376-e913-495b-945f-e50a0ed7c183",
   "metadata": {},
   "outputs": [
    {
     "name": "stdout",
     "output_type": "stream",
     "text": [
      "A\n"
     ]
    }
   ],
   "source": [
    "# get node attributes...\n",
    "first_index_data = graph[node_indices[0]]\n",
    "print(first_index_data)"
   ]
  },
  {
   "cell_type": "code",
   "execution_count": 15,
   "id": "ec20d493-b081-42e9-88fc-ae0a8f4d4da1",
   "metadata": {},
   "outputs": [
    {
     "name": "stdout",
     "output_type": "stream",
     "text": [
      "EdgeIndexMap{0: (0, 1, 1.5), 1: (0, 2, 5.0), 2: (1, 2, 2.5)}\n"
     ]
    }
   ],
   "source": [
    "# a helper method to get edge attributes...\n",
    "print(graph.edge_index_map())"
   ]
  },
  {
   "cell_type": "code",
   "execution_count": 17,
   "id": "16f40a6b-4e15-46cd-94f1-6ae65a6924a0",
   "metadata": {},
   "outputs": [
    {
     "name": "stdout",
     "output_type": "stream",
     "text": [
      "Node data payloads\n",
      "['A', 'B', 'C']\n",
      "Edge data payloads\n",
      "[1.5, 5.0, 2.5]\n"
     ]
    }
   ],
   "source": [
    "# easy ways to get all payloads...\n",
    "print(\"Node data payloads\")\n",
    "print(graph.nodes())\n",
    "print(\"Edge data payloads\")\n",
    "print(graph.edges())"
   ]
  },
  {
   "cell_type": "code",
   "execution_count": 19,
   "id": "13ff0f49-378a-4524-a242-862d7827e9f7",
   "metadata": {},
   "outputs": [
    {
     "name": "stdout",
     "output_type": "stream",
     "text": [
      "NodeIndices[0, 1, 2, 3, 4]\n",
      "NodeIndices[0, 1, 2, 3, 4, 5, 6]\n",
      "NodeIndices[0, 1, 3, 4, 5, 6]\n"
     ]
    }
   ],
   "source": [
    "# (1) add multiple nodes given a list...\n",
    "# (2) removing elements from graph...\n",
    "graph = rx.PyGraph()\n",
    "graph.add_nodes_from(list(range(5)))\n",
    "print(graph.node_indices())\n",
    "graph.add_nodes_from(list(range(2)))\n",
    "print(graph.node_indices())\n",
    "graph.remove_node(2)\n",
    "print(graph.node_indices())"
   ]
  },
  {
   "cell_type": "code",
   "execution_count": 20,
   "id": "820ee630-f565-42b6-bd5b-7da86b86304b",
   "metadata": {},
   "outputs": [
    {
     "name": "stdout",
     "output_type": "stream",
     "text": [
      "New Payload\n"
     ]
    }
   ],
   "source": [
    "# modifying elements\n",
    "last_index = graph.node_indices()[-1]\n",
    "graph[last_index] = \"New Payload\"\n",
    "print(graph[last_index])"
   ]
  },
  {
   "cell_type": "code",
   "execution_count": 22,
   "id": "b52ea778-0efb-41c5-9b82-c5ebd8654240",
   "metadata": {},
   "outputs": [],
   "source": [
    "# use object as node payload\n",
    "class GraphNode:\n",
    "    def __init__(self, value):\n",
    "        self.value = value\n",
    "        self.index = None\n",
    "    \n",
    "    def __str__(self):\n",
    "        return f\"GraphNode: {self.value} @ index: {self.index}\"\n",
    "\n",
    "graph = rx.PyGraph()\n",
    "index = graph.add_node(GraphNode(\"A\"))\n",
    "graph[index].index = index"
   ]
  },
  {
   "cell_type": "code",
   "execution_count": 14,
   "id": "e9d70aec-5d81-44bf-93d5-b4e0a110aa41",
   "metadata": {},
   "outputs": [
    {
     "name": "stdout",
     "output_type": "stream",
     "text": [
      "EdgeIndices[3, 2, 0]\n",
      "NodeIndices[3, 1, 4]\n"
     ]
    }
   ],
   "source": [
    "G = rx.PyGraph()\n",
    "indices = G.add_nodes_from(range(5))\n",
    "G.add_edge(1, 2, None)\n",
    "G.add_edge(1, 4, None)\n",
    "G.add_edge(2, 3, None)\n",
    "G.add_edge(2, 4, None)\n",
    "\n",
    "# access edges from nodes...\n",
    "print(G.incident_edges(2))\n",
    "# node neighbors...\n",
    "print(G.neighbors(2))"
   ]
  },
  {
   "cell_type": "code",
   "execution_count": null,
   "id": "04066843-c2b6-4322-868c-f382e9b24592",
   "metadata": {},
   "outputs": [],
   "source": [
    "G.incident_edge_index_map"
   ]
  },
  {
   "cell_type": "code",
   "execution_count": 66,
   "id": "10bb83f3-9bfd-4348-904d-dbcbd375e460",
   "metadata": {},
   "outputs": [
    {
     "name": "stdout",
     "output_type": "stream",
     "text": [
      "EdgeIndices[3, 2, 0]\n",
      "3\n",
      "\n",
      "EdgeIndices[1, 0]\n",
      "1\n",
      "\n",
      "EdgeIndices[2]\n",
      "\n"
     ]
    }
   ],
   "source": [
    "q1 = G.incident_edges(2)\n",
    "print(q1)\n",
    "print(q1[0])\n",
    "print()\n",
    "\n",
    "q2 = G.incident_edges(1)\n",
    "print(q2)\n",
    "print(q2[0])\n",
    "print()\n",
    "\n",
    "print(G.incident_edges(3))\n",
    "print()\n",
    "\n",
    "# print(G.neighbors(2))\n",
    "# print(G.neighbors(2)[0])\n",
    "# print(G.neighbors(2)[1])"
   ]
  },
  {
   "cell_type": "code",
   "execution_count": 71,
   "id": "0f8bd0b6-598f-4ae5-87f1-824a2c0543f9",
   "metadata": {},
   "outputs": [
    {
     "name": "stdout",
     "output_type": "stream",
     "text": [
      "{0}\n"
     ]
    }
   ],
   "source": [
    "print(set(q1).intersection(set(q2)))"
   ]
  },
  {
   "cell_type": "code",
   "execution_count": null,
   "id": "ff241869-6833-4b48-a4f2-835519464c1e",
   "metadata": {},
   "outputs": [],
   "source": []
  },
  {
   "cell_type": "code",
   "execution_count": null,
   "id": "73429af0-187d-45d4-be4e-3a01720e8df0",
   "metadata": {},
   "outputs": [],
   "source": []
  },
  {
   "cell_type": "code",
   "execution_count": null,
   "id": "b857e6c0-133a-4e01-8a92-4a2dbee612e3",
   "metadata": {},
   "outputs": [],
   "source": []
  },
  {
   "cell_type": "code",
   "execution_count": 52,
   "id": "8b866293-9485-497a-a9d2-9c61a9dcb983",
   "metadata": {},
   "outputs": [
    {
     "name": "stdout",
     "output_type": "stream",
     "text": [
      "EdgeIndices[0]\n",
      "0\n"
     ]
    }
   ],
   "source": [
    "ret = G.incident_edges(1)\n",
    "print(ret)\n",
    "print(ret[0])"
   ]
  },
  {
   "cell_type": "code",
   "execution_count": 50,
   "id": "3748f381-7e37-449e-9292-eeb574d3310b",
   "metadata": {},
   "outputs": [
    {
     "name": "stdout",
     "output_type": "stream",
     "text": [
      "EdgeIndices[]\n"
     ]
    }
   ],
   "source": [
    "print(G.incident_edges(3))"
   ]
  },
  {
   "cell_type": "code",
   "execution_count": 24,
   "id": "df881588-183e-4cf1-b6e7-8181a2e98088",
   "metadata": {},
   "outputs": [
    {
     "name": "stdout",
     "output_type": "stream",
     "text": [
      "NodeIndices[3, 1, 4]\n"
     ]
    }
   ],
   "source": [
    "print(G.neighbors(2))"
   ]
  },
  {
   "cell_type": "code",
   "execution_count": 19,
   "id": "2984ae46-69aa-4651-85c4-14b7377e3af1",
   "metadata": {},
   "outputs": [
    {
     "name": "stdout",
     "output_type": "stream",
     "text": [
      "EdgeIndexMap{3: (2, 4, None), 2: (2, 3, None), 0: (2, 1, None)}\n",
      "3 (2, 4, None)\n",
      "2 (2, 3, None)\n",
      "0 (2, 1, None)\n"
     ]
    }
   ],
   "source": [
    "edge_map = G.incident_edge_index_map(2)\n",
    "print(edge_map)\n",
    "\n",
    "for e in edge_map:\n",
    "    print(e, edge_map[e])"
   ]
  },
  {
   "cell_type": "code",
   "execution_count": 22,
   "id": "7781d111-e05a-4dfc-a64b-228b896eab39",
   "metadata": {},
   "outputs": [
    {
     "data": {
      "text/plain": [
       "[(2, 4, None), (2, 3, None), (2, 1, None)]"
      ]
     },
     "execution_count": 22,
     "metadata": {},
     "output_type": "execute_result"
    }
   ],
   "source": [
    "list(edge_map.values())"
   ]
  },
  {
   "cell_type": "code",
   "execution_count": 31,
   "id": "abfad15d-45a5-4d8d-ac16-187f16414353",
   "metadata": {},
   "outputs": [
    {
     "name": "stdout",
     "output_type": "stream",
     "text": [
      "EdgeIndices[2]\n"
     ]
    },
    {
     "ename": "TypeError",
     "evalue": "PyGraph.edge_index_map() takes no arguments (1 given)",
     "output_type": "error",
     "traceback": [
      "\u001b[0;31m---------------------------------------------------------------------------\u001b[0m",
      "\u001b[0;31mTypeError\u001b[0m                                 Traceback (most recent call last)",
      "Cell \u001b[0;32mIn[31], line 3\u001b[0m\n\u001b[1;32m      1\u001b[0m the_edge \u001b[38;5;241m=\u001b[39m G\u001b[38;5;241m.\u001b[39medge_indices_from_endpoints(\u001b[38;5;241m2\u001b[39m, \u001b[38;5;241m3\u001b[39m)\n\u001b[1;32m      2\u001b[0m \u001b[38;5;28mprint\u001b[39m(the_edge)\n\u001b[0;32m----> 3\u001b[0m \u001b[43mG\u001b[49m\u001b[38;5;241;43m.\u001b[39;49m\u001b[43medge_index_map\u001b[49m\u001b[43m(\u001b[49m\u001b[43mthe_edge\u001b[49m\u001b[43m[\u001b[49m\u001b[38;5;241;43m0\u001b[39;49m\u001b[43m]\u001b[49m\u001b[43m)\u001b[49m\n",
      "\u001b[0;31mTypeError\u001b[0m: PyGraph.edge_index_map() takes no arguments (1 given)"
     ]
    }
   ],
   "source": [
    "the_edge = G.edge_indices_from_endpoints(2, 3)\n",
    "print(the_edge)\n",
    "G.edge_index_map(the_edge[0])"
   ]
  },
  {
   "cell_type": "code",
   "execution_count": 59,
   "id": "c8376333-7fa5-475e-bc2a-f6a68c44bb95",
   "metadata": {},
   "outputs": [
    {
     "data": {
      "text/plain": [
       "<rustworkx.EdgeIndexMap at 0x10f50a540>"
      ]
     },
     "execution_count": 59,
     "metadata": {},
     "output_type": "execute_result"
    }
   ],
   "source": [
    "edge_map"
   ]
  },
  {
   "cell_type": "code",
   "execution_count": 61,
   "id": "f8a79b88-f795-482b-ae88-604e01275bcb",
   "metadata": {},
   "outputs": [
    {
     "data": {
      "text/plain": [
       "[None]"
      ]
     },
     "execution_count": 61,
     "metadata": {},
     "output_type": "execute_result"
    }
   ],
   "source": [
    "G.edges()[0]"
   ]
  },
  {
   "cell_type": "code",
   "execution_count": null,
   "id": "8fb74bd3-1414-4dc2-80de-5c278072d3a7",
   "metadata": {},
   "outputs": [],
   "source": []
  },
  {
   "cell_type": "code",
   "execution_count": null,
   "id": "7d905da8-c120-424d-b6af-cd76010380d1",
   "metadata": {},
   "outputs": [],
   "source": []
  },
  {
   "cell_type": "code",
   "execution_count": 39,
   "id": "069e6a80-21e7-4dee-a6e1-e9b5976db555",
   "metadata": {},
   "outputs": [
    {
     "data": {
      "image/png": "[encoded data removed]",
      "text/plain": [
       "<Figure size 640x480 with 1 Axes>"
      ]
     },
     "metadata": {},
     "output_type": "display_data"
    }
   ],
   "source": [
    "# visualization...\n",
    "from rustworkx.visualization import mpl_draw\n",
    "\n",
    "path_graph = rx.generators.directed_path_graph(5)\n",
    "mpl_draw(path_graph)"
   ]
  },
  {
   "cell_type": "code",
   "execution_count": 74,
   "id": "3b1be936-72ca-4a07-843f-8e4d60d752f6",
   "metadata": {},
   "outputs": [
    {
     "ename": "NameError",
     "evalue": "name 'mpl_draw' is not defined",
     "output_type": "error",
     "traceback": [
      "\u001b[0;31m---------------------------------------------------------------------------\u001b[0m",
      "\u001b[0;31mNameError\u001b[0m                                 Traceback (most recent call last)",
      "Cell \u001b[0;32mIn[74], line 4\u001b[0m\n\u001b[1;32m      2\u001b[0m graph\u001b[38;5;241m.\u001b[39madd_nodes_from(\u001b[38;5;28mrange\u001b[39m(\u001b[38;5;241m3\u001b[39m))\n\u001b[1;32m      3\u001b[0m graph\u001b[38;5;241m.\u001b[39madd_edges_from([(\u001b[38;5;241m0\u001b[39m, \u001b[38;5;241m1\u001b[39m, \u001b[38;5;124m'\u001b[39m\u001b[38;5;124mA\u001b[39m\u001b[38;5;124m'\u001b[39m), (\u001b[38;5;241m0\u001b[39m, \u001b[38;5;241m1\u001b[39m, \u001b[38;5;124m'\u001b[39m\u001b[38;5;124mB\u001b[39m\u001b[38;5;124m'\u001b[39m), (\u001b[38;5;241m1\u001b[39m, \u001b[38;5;241m2\u001b[39m, \u001b[38;5;124m'\u001b[39m\u001b[38;5;124mC\u001b[39m\u001b[38;5;124m'\u001b[39m)])\n\u001b[0;32m----> 4\u001b[0m \u001b[43mmpl_draw\u001b[49m(graph, with_labels\u001b[38;5;241m=\u001b[39m\u001b[38;5;28;01mTrue\u001b[39;00m, edge_labels\u001b[38;5;241m=\u001b[39m\u001b[38;5;28mstr\u001b[39m)\n",
      "\u001b[0;31mNameError\u001b[0m: name 'mpl_draw' is not defined"
     ]
    }
   ],
   "source": [
    "graph = rx.PyGraph(multigraph=False)\n",
    "graph.add_nodes_from(range(3))\n",
    "graph.add_edges_from([(0, 1, 'A'), (0, 1, 'B'), (1, 2, 'C')])\n",
    "mpl_draw(graph, with_labels=True, edge_labels=str)"
   ]
  },
  {
   "cell_type": "code",
   "execution_count": null,
   "id": "1b6ccfd6-8406-44d3-bd24-06eae61c1da6",
   "metadata": {},
   "outputs": [],
   "source": []
  },
  {
   "cell_type": "code",
   "execution_count": null,
   "id": "fe81a436-f4e6-4bb0-bb23-3d4e8d2ff809",
   "metadata": {},
   "outputs": [],
   "source": []
  },
  {
   "cell_type": "code",
   "execution_count": null,
   "id": "7a81afa8-9a76-42cc-a1de-d1fc663aed70",
   "metadata": {},
   "outputs": [],
   "source": []
  },
  {
   "cell_type": "code",
   "execution_count": null,
   "id": "201793bd-dd87-46d6-88bc-ee5b5510110a",
   "metadata": {},
   "outputs": [],
   "source": []
  },
  {
   "cell_type": "code",
   "execution_count": null,
   "id": "893282f6-3b07-4378-a061-bd6b59b6d5d9",
   "metadata": {},
   "outputs": [],
   "source": []
  },
  {
   "cell_type": "code",
   "execution_count": null,
   "id": "3e4ec4e8-7b7c-4634-8756-5183fa16eaa8",
   "metadata": {},
   "outputs": [],
   "source": []
  },
  {
   "cell_type": "code",
   "execution_count": null,
   "id": "c4099a71-8a0d-4b93-bfb3-8e10307eba32",
   "metadata": {},
   "outputs": [],
   "source": []
  },
  {
   "cell_type": "code",
   "execution_count": null,
   "id": "431e95ae-587a-4ff6-ad7e-fc591eb97420",
   "metadata": {},
   "outputs": [],
   "source": []
  },
  {
   "cell_type": "code",
   "execution_count": 22,
   "id": "6c934aa1-8756-4226-8aea-dc4724e9b900",
   "metadata": {},
   "outputs": [],
   "source": [
    "import rustworkx as rx\n",
    "from typing import Dict, List, Tuple\n",
    "import heapq\n",
    "\n",
    "def custom_dijkstra(graph: rx.PyDiGraph, source: int, target: int, cutoff: float) -> Tuple[Dict[int, float], Dict[int, int]]:\n",
    "    distances = {source: 0}\n",
    "    predecessors = {}\n",
    "    pq = [(0, source)]\n",
    "\n",
    "    while pq:\n",
    "        current_distance, current_vertex = heapq.heappop(pq)\n",
    "\n",
    "        if current_vertex == target:\n",
    "            return distances, predecessors\n",
    "\n",
    "        if current_distance > cutoff:\n",
    "            break\n",
    "\n",
    "        if current_distance > distances.get(current_vertex, float('inf')):\n",
    "            continue\n",
    "\n",
    "        for neighbor in graph.neighbors(current_vertex):\n",
    "            weight = graph.get_edge_data(current_vertex, neighbor)\n",
    "            distance = current_distance + weight\n",
    "\n",
    "            if distance < distances.get(neighbor, float('inf')):\n",
    "                distances[neighbor] = distance\n",
    "                predecessors[neighbor] = current_vertex\n",
    "                heapq.heappush(pq, (distance, neighbor))\n",
    "\n",
    "    return distances, predecessors"
   ]
  },
  {
   "cell_type": "code",
   "execution_count": 27,
   "id": "b01cfb52-902d-4ac4-82cd-334deadcb259",
   "metadata": {},
   "outputs": [
    {
     "name": "stdout",
     "output_type": "stream",
     "text": [
      "Distances: {0: 0, 2: 2, 1: 4, 3: 3, 4: 8}\n",
      "Predecessors: {2: 0, 1: 0, 3: 2, 4: 3}\n"
     ]
    }
   ],
   "source": [
    "# Example usage\n",
    "graph = rx.PyDiGraph()\n",
    "graph.add_nodes_from(range(5))\n",
    "graph.add_edges_from([(0, 1, 4), (0, 2, 2), (1, 3, 3), (2, 3, 1), (3, 4, 5)])\n",
    "\n",
    "source = 0\n",
    "target = 4\n",
    "cutoff = 5\n",
    "\n",
    "distances, predecessors = custom_dijkstra(graph, source, target, cutoff)\n",
    "print(f\"Distances: {distances}\")\n",
    "print(f\"Predecessors: {predecessors}\")"
   ]
  },
  {
   "cell_type": "code",
   "execution_count": null,
   "id": "cf377caf-a1a3-46aa-8ab0-94e947e2ddff",
   "metadata": {},
   "outputs": [],
   "source": []
  },
  {
   "cell_type": "code",
   "execution_count": null,
   "id": "43a94f28-60ec-4037-9456-cc806d9c6931",
   "metadata": {},
   "outputs": [],
   "source": []
  },
  {
   "cell_type": "code",
   "execution_count": null,
   "id": "2f0339c6-17f9-423f-92ba-d364d209b738",
   "metadata": {},
   "outputs": [],
   "source": []
  },
  {
   "cell_type": "code",
   "execution_count": null,
   "id": "c19f7988-d1aa-4e17-939d-10f32006fbbe",
   "metadata": {},
   "outputs": [],
   "source": []
  },
  {
   "cell_type": "code",
   "execution_count": null,
   "id": "a7ff2668-d573-4eeb-8e79-16faab1b68cb",
   "metadata": {},
   "outputs": [],
   "source": []
  },
  {
   "cell_type": "code",
   "execution_count": null,
   "id": "6392c3bc-0518-4879-8088-04778e640ee0",
   "metadata": {},
   "outputs": [],
   "source": []
  }
 ],
 "metadata": {
  "kernelspec": {
   "display_name": "Python 3 (ipykernel)",
   "language": "python",
   "name": "python3"
  },
  "language_info": {
   "codemirror_mode": {
    "name": "ipython",
    "version": 3
   },
   "file_extension": ".py",
   "mimetype": "text/x-python",
   "name": "python",
   "nbconvert_exporter": "python",
   "pygments_lexer": "ipython3",
   "version": "3.12.7"
  }
 },
 "nbformat": 4,
 "nbformat_minor": 5
}
